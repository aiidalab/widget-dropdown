{
 "cells": [
  {
   "cell_type": "code",
   "execution_count": null,
   "metadata": {},
   "outputs": [],
   "source": [
    "%load_ext autoreload\n",
    "%autoreload 2\n",
    "%env ANYWIDGET_HMR=1"
   ]
  },
  {
   "cell_type": "code",
   "execution_count": null,
   "metadata": {},
   "outputs": [],
   "source": [
    "\n",
    "from widget_dropdown import DropdownWidget\n",
    "options = [\n",
    "    {\"value\": \"\", \"text\": \"Select an option\", \"disabled\": True},\n",
    "    {\"value\": \"option1\", \"text\": \"Option 1\", \"disabled\": False},\n",
    "    {\n",
    "        \"group\": \"Group 1\",\n",
    "        \"options\": [\n",
    "            {\"value\": {\"test\": 1}, \"text\": \"Option 2\", \"disabled\": False},\n",
    "            {\"value\": \"option3\", \"text\": \"Option 3\", \"disabled\": True},\n",
    "        ],\n",
    "    },\n",
    "    {\n",
    "        \"group\": \"Group 2\",\n",
    "        \"options\": [\n",
    "            {\"value\": [\"test\"], \"text\": \"Option 4\", \"disabled\": False},\n",
    "        ],\n",
    "    },\n",
    "]\n",
    "\n",
    "w = DropdownWidget(options, layout={\"width\": \"300px\"})\n",
    "w"
   ]
  },
  {
   "cell_type": "code",
   "execution_count": null,
   "metadata": {},
   "outputs": [],
   "source": [
    "# change the selected value\n",
    "w.value = \"option1\""
   ]
  },
  {
   "cell_type": "code",
   "execution_count": null,
   "metadata": {},
   "outputs": [],
   "source": [
    "# change the selected index\n",
    "w.index = 4"
   ]
  },
  {
   "cell_type": "code",
   "execution_count": null,
   "metadata": {},
   "outputs": [],
   "source": [
    "# change the options\n",
    "w.options = [\n",
    "    {\"value\": \"new1\", \"text\": \"New1\", \"disabled\": False},\n",
    "    {\"value\": {\"test\": 1}, \"text\": \"New2\", \"disabled\": False},\n",
    "]"
   ]
  },
  {
   "cell_type": "code",
   "execution_count": null,
   "metadata": {},
   "outputs": [],
   "source": [
    "# disable the whole dropdown\n",
    "w.disabled = True"
   ]
  },
  {
   "cell_type": "code",
   "execution_count": null,
   "metadata": {},
   "outputs": [],
   "source": []
  }
 ],
 "metadata": {
  "kernelspec": {
   "display_name": "Python 3 (ipykernel)",
   "language": "python",
   "name": "python3"
  },
  "language_info": {
   "codemirror_mode": {
    "name": "ipython",
    "version": 3
   },
   "file_extension": ".py",
   "mimetype": "text/x-python",
   "name": "python",
   "nbconvert_exporter": "python",
   "pygments_lexer": "ipython3",
   "version": "3.10.0"
  }
 },
 "nbformat": 4,
 "nbformat_minor": 4
}
