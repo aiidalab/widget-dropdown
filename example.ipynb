{
 "cells": [
  {
   "cell_type": "code",
   "execution_count": null,
   "metadata": {},
   "outputs": [],
   "source": [
    "%load_ext autoreload\n",
    "%autoreload 2\n",
    "%env ANYWIDGET_HMR=1"
   ]
  },
  {
   "cell_type": "code",
   "execution_count": null,
   "metadata": {},
   "outputs": [],
   "source": [
    "\n",
    "from widget_dropdown import DropdownWidget\n",
    "options = [\n",
    "    {\"text\": \"Select an option\", \"value\": \"\", \"disabled\": True},\n",
    "    {\"text\": \"Option 1\", \"value\": 1, \"disabled\": False},\n",
    "    {\n",
    "        \"group\": \"Group 1\",\n",
    "        \"options\": [\n",
    "            {\"text\": \"Option 2\", \"value\": {\"test\": 1}, \"disabled\": False},\n",
    "            {\"text\": \"Option 3\", \"value\": \"option3\", \"disabled\": True},\n",
    "        ],\n",
    "    },\n",
    "    {\n",
    "        \"group\": \"Group 2\",\n",
    "        \"options\": [\n",
    "            {\"text\": \"Option 4\", \"value\": [\"test\"], \"disabled\": False},\n",
    "        ],\n",
    "    },\n",
    "]\n",
    "\n",
    "w = DropdownWidget(options, layout={\"width\": \"300px\"})\n",
    "w"
   ]
  },
  {
   "cell_type": "code",
   "execution_count": 10,
   "metadata": {},
   "outputs": [],
   "source": [
    "# change the selected index\n",
    "w.index = 1"
   ]
  },
  {
   "cell_type": "code",
   "execution_count": 12,
   "metadata": {},
   "outputs": [],
   "source": [
    "# change the styles of the select\n",
    "w.styles = {\n",
    "    \"background-color\": \"lightblue\",\n",
    "    \"color\": \"black\",\n",
    "}"
   ]
  },
  {
   "cell_type": "code",
   "execution_count": 5,
   "metadata": {},
   "outputs": [],
   "source": [
    "# change the selected value\n",
    "w.value = \"option3\""
   ]
  },
  {
   "cell_type": "code",
   "execution_count": 6,
   "metadata": {},
   "outputs": [],
   "source": [
    "# change the options\n",
    "w.options = [\n",
    "    {\"text\": \"New1\", \"value\": \"new1\", \"disabled\": False},\n",
    "    {\"text\": \"New2\", \"value\": {\"test\": 1}, \"disabled\": False},\n",
    "]"
   ]
  },
  {
   "cell_type": "code",
   "execution_count": 7,
   "metadata": {},
   "outputs": [],
   "source": [
    "# disable the whole dropdown\n",
    "w.disabled = True"
   ]
  },
  {
   "cell_type": "code",
   "execution_count": null,
   "metadata": {},
   "outputs": [],
   "source": []
  }
 ],
 "metadata": {
  "kernelspec": {
   "display_name": "widget-dropdown",
   "language": "python",
   "name": "python3"
  },
  "language_info": {
   "codemirror_mode": {
    "name": "ipython",
    "version": 3
   },
   "file_extension": ".py",
   "mimetype": "text/x-python",
   "name": "python",
   "nbconvert_exporter": "python",
   "pygments_lexer": "ipython3",
   "version": "3.10.16"
  }
 },
 "nbformat": 4,
 "nbformat_minor": 4
}
