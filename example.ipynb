{
	"cells": [
		{
			"cell_type": "code",
			"execution_count": null,
			"metadata": {},
			"outputs": [],
			"source": [
				"%load_ext autoreload\n",
				"%autoreload 2\n",
				"%env ANYWIDGET_HMR=1"
			]
		},
		{
			"cell_type": "code",
			"execution_count": null,
			"metadata": {},
			"outputs": [],
			"source": [
				"from widget_dropdown import DropdownWidget\n",
				"\n",
				"options = [\n",
				"    {\"value\": \"\", \"text\": \"Select an option\", \"disabled\": True},\n",
				"    {\n",
				"        \"group\": \"Group 1\",\n",
				"        \"options\": [\n",
				"            {\"value\": \"option1\", \"text\": \"Option 1\", \"disabled\": False},\n",
				"            {\"value\": \"option2\", \"text\": \"Option 2\", \"disabled\": True},\n",
				"        ],\n",
				"    },\n",
				"    {\"value\": \"option3\", \"text\": \"Option 3\", \"disabled\": False},\n",
				"    {\n",
				"        \"group\": \"Group 2\",\n",
				"        \"options\": [\n",
				"            {\"value\": \"option4\", \"text\": \"Option 4\", \"disabled\": False},\n",
				"        ],\n",
				"    },\n",
				"]\n",
				"\n",
				"w = DropdownWidget(options, layout={\"width\": \"300px\"})\n",
				"w"
			]
		},
		{
			"cell_type": "code",
			"execution_count": null,
			"metadata": {},
			"outputs": [],
			"source": [
				"# change the selected value\n",
				"w.selected_value = 'option1'"
			]
		},
		{
			"cell_type": "code",
			"execution_count": null,
			"metadata": {},
			"outputs": [],
			"source": [
				"# change the options\n",
				"w.options = [\n",
				"    {\"value\": \"new1\", \"text\": \"New1\", \"disabled\": False},\n",
				"    {\"value\": \"new2\", \"text\": \"New2\", \"disabled\": False},\n",
				"]"
			]
		},
		{
			"cell_type": "code",
			"execution_count": null,
			"metadata": {},
			"outputs": [],
			"source": []
		}
	],
	"metadata": {
		"kernelspec": {
			"display_name": "Python 3",
			"language": "python",
			"name": "python3"
		},
		"language_info": {
			"codemirror_mode": {
				"name": "ipython",
				"version": 3
			},
			"file_extension": ".py",
			"mimetype": "text/x-python",
			"name": "python",
			"nbconvert_exporter": "python",
			"pygments_lexer": "ipython3",
			"version": "3.10.0"
		}
	},
	"nbformat": 4,
	"nbformat_minor": 2
}
